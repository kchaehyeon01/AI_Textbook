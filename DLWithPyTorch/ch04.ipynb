{
 "cells": [
  {
   "cell_type": "code",
   "execution_count": 2,
   "id": "1782593b",
   "metadata": {},
   "outputs": [],
   "source": [
    "import torch"
   ]
  },
  {
   "cell_type": "code",
   "execution_count": 3,
   "id": "1d1ae39d",
   "metadata": {},
   "outputs": [],
   "source": [
    "# ReLU & Softmax\n",
    "class Net(torch.nn.Module):\n",
    "    def __init__(self,n_feature,n_hidden,n_output):\n",
    "        super(Net,self).__init__()\n",
    "        self.hidden = torch.nn.Linear(n_feature,n_hidden) # hidden layer\n",
    "        self.relu = torch.nn.ReLU(inplace=True)\n",
    "        self.out = torch.nn.Linear(n_hidden,n_output) # output layer\n",
    "        self.softmax = torch.nn.Softmax(dim=n_output)\n",
    "    def forward(self,x):\n",
    "        x = self.hidden(x)\n",
    "        x = self.relu(x) # ReLU activation function for hidden layer\n",
    "        x = self.out(x)\n",
    "        x = self.softmax(x) # Softmax activation function for output layer\n",
    "        return x"
   ]
  },
  {
   "cell_type": "code",
   "execution_count": 4,
   "id": "c591148f",
   "metadata": {},
   "outputs": [
    {
     "ename": "NameError",
     "evalue": "name 'model' is not defined",
     "output_type": "error",
     "traceback": [
      "\u001b[0;31m---------------------------------------------------------------------------\u001b[0m",
      "\u001b[0;31mNameError\u001b[0m                                 Traceback (most recent call last)",
      "Cell \u001b[0;32mIn[4], line 3\u001b[0m\n\u001b[1;32m      1\u001b[0m \u001b[38;5;66;03m# MSE (Mean Squared Error)\u001b[39;00m\n\u001b[1;32m      2\u001b[0m loss_fn \u001b[38;5;241m=\u001b[39m torch\u001b[38;5;241m.\u001b[39mnn\u001b[38;5;241m.\u001b[39mMSELoss(reduction\u001b[38;5;241m=\u001b[39m\u001b[38;5;124m'\u001b[39m\u001b[38;5;124msum\u001b[39m\u001b[38;5;124m'\u001b[39m)\n\u001b[0;32m----> 3\u001b[0m y_pred \u001b[38;5;241m=\u001b[39m \u001b[43mmodel\u001b[49m(x)\n\u001b[1;32m      4\u001b[0m loss \u001b[38;5;241m=\u001b[39m loss_fn(y_pred,y)\n",
      "\u001b[0;31mNameError\u001b[0m: name 'model' is not defined"
     ]
    }
   ],
   "source": [
    "# MSE (Mean Squared Error)\n",
    "loss_fn = torch.nn.MSELoss(reduction='sum')\n",
    "y_pred = model(x)\n",
    "loss = loss_fn(y_pred,y)"
   ]
  },
  {
   "cell_type": "code",
   "execution_count": null,
   "id": "107be318",
   "metadata": {},
   "outputs": [],
   "source": [
    "# CEE (Cross Entropy Error)\n",
    "loss = nn.CrossEntropyLoss()\n",
    "input = torch.randn(5,6,requires_grad=True)\n",
    "target = torch.empty(3,dtype=torch.long).random_(5)\n",
    "output = loss(input,target)\n",
    "output.backward()"
   ]
  }
 ],
 "metadata": {
  "kernelspec": {
   "display_name": "DLWithPyTorch",
   "language": "python",
   "name": "dlwithpytorch"
  },
  "language_info": {
   "codemirror_mode": {
    "name": "ipython",
    "version": 3
   },
   "file_extension": ".py",
   "mimetype": "text/x-python",
   "name": "python",
   "nbconvert_exporter": "python",
   "pygments_lexer": "ipython3",
   "version": "3.9.0"
  }
 },
 "nbformat": 4,
 "nbformat_minor": 5
}
