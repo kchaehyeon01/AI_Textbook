{
 "cells": [
  {
   "cell_type": "markdown",
   "id": "3dab5f63",
   "metadata": {},
   "source": [
    "# CNN 구현 :  fashion_mnist dataset 사용\n",
    "### label : class\n",
    "* 0 : T-shirt\n",
    "* 1 : Trouser\n",
    "* 2 : Pullover\n",
    "* 3 : Dress\n",
    "* 4 : Coat\n",
    "* 5 : Sandal\n",
    "* 6 : Shirt\n",
    "* 7 : Sneaker\n",
    "* 8 : Bag\n",
    "* 9 : Ankle Boot"
   ]
  },
  {
   "cell_type": "code",
   "execution_count": 1,
   "id": "0877e2db",
   "metadata": {},
   "outputs": [],
   "source": [
    "# 라이브러리 호출\n",
    "import numpy as np\n",
    "import matplotlib.pyplot as plt\n",
    "\n",
    "import torch\n",
    "import torch.nn as nn\n",
    "from torch.autograd import Variable\n",
    "import torch.nn.functional as F\n",
    "\n",
    "import torchvision\n",
    "import torchvision.transforms as transforms # library for data preprocessing\n",
    "from torch.utils.data import Dataset, DataLoader"
   ]
  },
  {
   "cell_type": "code",
   "execution_count": null,
   "id": "6afc2ddf",
   "metadata": {},
   "outputs": [],
   "source": [
    "# CPU/GPU 장치 확인\n",
    "device = torch.device(\"cuda:0\" if torch.cuda.is_available() else \"cpu\")"
   ]
  }
 ],
 "metadata": {
  "kernelspec": {
   "display_name": "DLWithPyTorch",
   "language": "python",
   "name": "dlwithpytorch"
  },
  "language_info": {
   "codemirror_mode": {
    "name": "ipython",
    "version": 3
   },
   "file_extension": ".py",
   "mimetype": "text/x-python",
   "name": "python",
   "nbconvert_exporter": "python",
   "pygments_lexer": "ipython3",
   "version": "3.9.0"
  }
 },
 "nbformat": 4,
 "nbformat_minor": 5
}
